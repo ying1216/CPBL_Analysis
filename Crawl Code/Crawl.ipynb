{
 "cells": [
  {
   "cell_type": "code",
   "execution_count": 21,
   "metadata": {},
   "outputs": [],
   "source": [
    "%run Crawl_Score.ipynb"
   ]
  },
  {
   "cell_type": "code",
   "execution_count": 22,
   "metadata": {},
   "outputs": [
    {
     "name": "stdout",
     "output_type": "stream",
     "text": [
      "http://www.cpbl.com.tw/players/person.html?player_id=H435&teamno=AJL011\n",
      "Connection OK!\n",
      "player_info_json output success!\n",
      "朱育賢 performance  Success\n",
      "朱育賢 defense  Success\n",
      "朱育賢 verus  Success\n",
      "朱育賢 highest  Success\n",
      "Cover Success\n"
     ]
    }
   ],
   "source": [
    "#輸入球員成績網址，即可建檔並輸出數據\n",
    "output_score(input())"
   ]
  },
  {
   "cell_type": "markdown",
   "metadata": {},
   "source": [
    "1. 入口頁面\n",
    "status = 1 表示現役球員\n",
    "http://www.cpbl.com.tw/players.html?&offset=0&status=1&teamno=\n"
   ]
  },
  {
   "cell_type": "code",
   "execution_count": null,
   "metadata": {},
   "outputs": [],
   "source": []
  }
 ],
 "metadata": {
  "kernelspec": {
   "display_name": "Python 3",
   "language": "python",
   "name": "python3"
  },
  "language_info": {
   "codemirror_mode": {
    "name": "ipython",
    "version": 3
   },
   "file_extension": ".py",
   "mimetype": "text/x-python",
   "name": "python",
   "nbconvert_exporter": "python",
   "pygments_lexer": "ipython3",
   "version": "3.7.4"
  }
 },
 "nbformat": 4,
 "nbformat_minor": 2
}
