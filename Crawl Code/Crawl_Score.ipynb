{
 "cells": [
  {
   "cell_type": "code",
   "execution_count": 38,
   "metadata": {},
   "outputs": [],
   "source": [
    "import requests\n",
    "from bs4 import BeautifulSoup\n",
    "import re\n",
    "import json\n",
    "import csv\n",
    "import os"
   ]
  },
  {
   "cell_type": "code",
   "execution_count": 48,
   "metadata": {},
   "outputs": [],
   "source": [
    "def get_player_html(url):\n",
    "    if url:\n",
    "        player = requests.get(url)\n",
    "        if player.status_code == 200:\n",
    "            print('Connection OK!')\n",
    "            soup = BeautifulSoup(player.text,'html.parser')\n",
    "            player_info = soup.find('div', class_ = 'player_info')\n",
    "            player_score = soup.find_all('table', class_ = 'std_tb')\n",
    "            return (player_info, player_score)\n",
    "        else:\n",
    "            print('Connection Fail!')\n",
    "            return None\n",
    "    else:\n",
    "        print('empty url')\n",
    "        #print(player_score_pitching.text)\n",
    "    #print(player_score_pitching)"
   ]
  },
  {
   "cell_type": "code",
   "execution_count": 56,
   "metadata": {},
   "outputs": [],
   "source": [
    "#爬取球員基本資料\n",
    "def crawl_player_info(player_info):\n",
    "    player_info_list = []\n",
    "    p = {}\n",
    "    player_name = player_info.find('div', class_ = 'player_info_name')\n",
    "    p.update({'球員姓名':player_name.text[:4]})\n",
    "    p.update({'球員背號:':player_name.text[4:6]})\n",
    "    player_team = player_name.find('span')\n",
    "    player_detail = player_info.find_all('tr')\n",
    "    for i in player_detail:\n",
    "        k = i.find_all('td')\n",
    "        p.update({k[0].text[0:2]:k[0].text[3:]})\n",
    "        p.update({k[1].text[0:2]:k[1].text[3:]})\n",
    "        p.update({k[2].text[0:2]:k[2].text[3:]})\n",
    "        p.update({k[3].text[0:2]:k[3].text[3:]})\n",
    "    player_info_list.append(p)\n",
    "    return player_info_list"
   ]
  },
  {
   "cell_type": "code",
   "execution_count": 4,
   "metadata": {},
   "outputs": [],
   "source": [
    "def player_info_json(player_info):\n",
    "    file = crawl_player_info(player_info)\n",
    "    name =file[0][\"球員姓名\"].replace(\"*\",\"\").replace(\"◎\",\"\").replace(\"1\",\"\").replace(\"2\",\"\").replace(\"3\",\"\").replace(\"4\",\"\").replace(\"5\",\"\").replace(\"6\",\"\").replace(\"7\",\"\").replace(\"8\",\"\").replace(\"9\",\"\")+ \".json\"\n",
    "    info_json = json.dumps(file, ensure_ascii=False)\n",
    "    with open(name, 'w', encoding='utf-8') as f:\n",
    "        json.dump(info_json, f, ensure_ascii=False)\n",
    "        print(\"player_info_json output success!\")\n",
    "    "
   ]
  },
  {
   "cell_type": "code",
   "execution_count": 52,
   "metadata": {},
   "outputs": [],
   "source": [
    "#爬投手成績\n",
    "def crawl_player_score(player_score):\n",
    "    score = player_score.find_all('tr')\n",
    "    bar = score[0].find_all('th')\n",
    "    bar_list = []\n",
    "    bar_title = []\n",
    "    player_score = []\n",
    "    player_score_c = []\n",
    "    for i in bar:\n",
    "        bar_list.append(i.text)\n",
    "        bar_title.append(i.get('title'))\n",
    "    bar_dic = dict(zip(bar_list, bar_title))\n",
    "    for k in range(1, len(score)):\n",
    "        year_score = {}\n",
    "        year_score_c = {}\n",
    "        each_year = score[k].find_all('td')\n",
    "        for i in range(len(each_year)):\n",
    "            title = bar_list[i]\n",
    "            c_title = bar_title[i]\n",
    "            static = each_year[i].text.replace(\"\\n\",\"\").replace(\"\\t\",\"\").replace(\"\\r\",\"\")\n",
    "            year_score.update({title:static})\n",
    "            year_score_c.update({c_title:static})\n",
    "        player_score.append(year_score)\n",
    "        player_score_c.append(year_score_c)\n",
    "    return player_score\n",
    "    #print(player_score_c)\n"
   ]
  },
  {
   "cell_type": "code",
   "execution_count": 53,
   "metadata": {},
   "outputs": [],
   "source": [
    "#輸出總csv檔案\n",
    "def crawl_player_score_csv(player_score_pitching, player_name):\n",
    "    csv_file = player_name + \".csv\"\n",
    "    c = open(csv_file,\"w\")\n",
    "    writer = csv.writer(c)\n",
    "    score = player_score_pitching.find_all('tr')\n",
    "    bar = score[0].find_all('th')\n",
    "    bar_list = []\n",
    "    bar_title = []\n",
    "    player_score = []\n",
    "    player_score_c = []\n",
    "    for i in bar:\n",
    "        bar_list.append(i.text)\n",
    "        bar_title.append(i.get('title'))\n",
    "    writer.writerow(bar_list)\n",
    "    writer.writerow(bar_title)\n",
    "    for k in range(1, len(score)):\n",
    "        each_year = score[k].find_all('td')\n",
    "        csv_list = []\n",
    "        for i in range(len(each_year)):\n",
    "            static = each_year[i].text.replace(\"\\n\",\"\").replace(\"\\t\",\"\").replace(\"\\r\",\"\").replace(\"\\xa0\",\"\")\n",
    "            csv_list.append(static)\n",
    "        writer.writerow(csv_list)\n",
    "    print(player_name,' Success')"
   ]
  },
  {
   "cell_type": "code",
   "execution_count": 5,
   "metadata": {},
   "outputs": [],
   "source": [
    "def output_score(url):\n",
    "    info = get_player_html(url)\n",
    "    if info:\n",
    "        player_info = info[0]\n",
    "        player_score = info[1]\n",
    "        info = crawl_player_info(player_info)\n",
    "        name = info[0][\"球員姓名\"].replace('*',\"\").replace(\"◎\",\"\").replace(\"1\",\"\").replace(\"2\",\"\").replace(\"3\",\"\").replace(\"4\",\"\").replace(\"5\",\"\").replace(\"6\",\"\").replace(\"7\",\"\").replace(\"8\",\"\").replace(\"9\",\"\")\n",
    "        csv_performance = name + \" performance\"\n",
    "        csv_defense = name + \" defense\"\n",
    "        csv_verus_team = name + \" verus\"\n",
    "        csv_highest = name + \" highest\"\n",
    "        now = os.getcwd()\n",
    "        \n",
    "        if os.path.exists(name):\n",
    "            os.chdir(name)\n",
    "            player_info_json(player_info) \n",
    "            crawl_player_score_csv(player_score[0], csv_performance)\n",
    "            crawl_player_score_csv(player_score[1], csv_defense)\n",
    "            crawl_player_score_csv(player_score[-2], csv_verus_team)\n",
    "            crawl_player_score_csv(player_score[-1], csv_highest)\n",
    "            print(\"Cover Success\")\n",
    "            os.chdir(now)\n",
    "        else:\n",
    "            os.mkdir(name)\n",
    "            os.chdir(name)\n",
    "            player_info_json(player_info) \n",
    "            crawl_player_score_csv(player_score[0], csv_performance)\n",
    "            crawl_player_score_csv(player_score[1], csv_defense)\n",
    "            crawl_player_score_csv(player_score[-2], csv_verus_team)\n",
    "            crawl_player_score_csv(player_score[-1], csv_highest)\n",
    "            print(\"Create Success\")\n",
    "            os.chdir(now)\n",
    "    else:\n",
    "        print('error')"
   ]
  },
  {
   "cell_type": "code",
   "execution_count": null,
   "metadata": {},
   "outputs": [],
   "source": []
  },
  {
   "cell_type": "code",
   "execution_count": null,
   "metadata": {},
   "outputs": [],
   "source": []
  }
 ],
 "metadata": {
  "kernelspec": {
   "display_name": "Python 3",
   "language": "python",
   "name": "python3"
  },
  "language_info": {
   "codemirror_mode": {
    "name": "ipython",
    "version": 3
   },
   "file_extension": ".py",
   "mimetype": "text/x-python",
   "name": "python",
   "nbconvert_exporter": "python",
   "pygments_lexer": "ipython3",
   "version": "3.7.4"
  }
 },
 "nbformat": 4,
 "nbformat_minor": 2
}
