{
 "cells": [
  {
   "cell_type": "code",
   "execution_count": 215,
   "metadata": {},
   "outputs": [],
   "source": [
    "# import requests\n",
    "# from bs4 import BeautifulSoup\n",
    "# import re\n",
    "# import json\n",
    "%run Crawl_Score.ipynb"
   ]
  },
  {
   "cell_type": "code",
   "execution_count": 216,
   "metadata": {},
   "outputs": [
    {
     "name": "stdout",
     "output_type": "stream",
     "text": [
      "Connection OK!\n"
     ]
    }
   ],
   "source": [
    "info = get_player_html(\"http://www.cpbl.com.tw/players/person.html?player_id=R401&teamno=B04'\")\n",
    "player_info = info[0]\n",
    "player_score = info[1]"
   ]
  },
  {
   "cell_type": "code",
   "execution_count": 217,
   "metadata": {},
   "outputs": [],
   "source": [
    "info = crawl_player_info(player_info)\n",
    "performance = crawl_player_score(player_score[0])\n",
    "defense = crawl_player_score(player_score[1])\n",
    "verus_team = crawl_player_score(player_score[-2])\n",
    "highest = crawl_player_score(player_score[-1])"
   ]
  },
  {
   "cell_type": "code",
   "execution_count": 218,
   "metadata": {},
   "outputs": [],
   "source": [
    "name = info[0][\"球員姓名\"]\n",
    "csv_performance = name + \" performance\"\n",
    "csv_defense = name + \" defense\"\n",
    "csv_verus_team = name + \" verus\"\n",
    "csv_highest = name + \" highest\"\n"
   ]
  },
  {
   "cell_type": "code",
   "execution_count": 219,
   "metadata": {},
   "outputs": [
    {
     "name": "stdout",
     "output_type": "stream",
     "text": [
      "林哲瑄 performance  Success\n",
      "林哲瑄 defense  Success\n",
      "林哲瑄 verus  Success\n",
      "林哲瑄 highest  Success\n",
      "player_info_json output success!\n"
     ]
    }
   ],
   "source": [
    "crawl_player_score_csv(player_score[0], csv_performance)\n",
    "crawl_player_score_csv(player_score[1], csv_defense)\n",
    "crawl_player_score_csv(player_score[-2], csv_verus_team)\n",
    "crawl_player_score_csv(player_score[-1], csv_highest)\n",
    "player_info_json(player_info)"
   ]
  },
  {
   "cell_type": "code",
   "execution_count": 220,
   "metadata": {},
   "outputs": [
    {
     "name": "stdout",
     "output_type": "stream",
     "text": [
      "Connection OK!\n",
      "player_info_json output success!\n",
      "朱育賢 performance  Success\n",
      "朱育賢 defense  Success\n",
      "朱育賢 verus  Success\n",
      "朱育賢 highest  Success\n",
      "All Success\n"
     ]
    }
   ],
   "source": [
    "output_score(\"http://www.cpbl.com.tw/players/person.html?player_id=H435&teamno=AJL011\")"
   ]
  },
  {
   "cell_type": "code",
   "execution_count": 185,
   "metadata": {},
   "outputs": [
    {
     "name": "stdout",
     "output_type": "stream",
     "text": [
      "player_info_json output success!\n"
     ]
    }
   ],
   "source": []
  },
  {
   "cell_type": "code",
   "execution_count": null,
   "metadata": {},
   "outputs": [],
   "source": []
  }
 ],
 "metadata": {
  "kernelspec": {
   "display_name": "Python 3",
   "language": "python",
   "name": "python3"
  },
  "language_info": {
   "codemirror_mode": {
    "name": "ipython",
    "version": 3
   },
   "file_extension": ".py",
   "mimetype": "text/x-python",
   "name": "python",
   "nbconvert_exporter": "python",
   "pygments_lexer": "ipython3",
   "version": "3.7.4"
  }
 },
 "nbformat": 4,
 "nbformat_minor": 2
}
