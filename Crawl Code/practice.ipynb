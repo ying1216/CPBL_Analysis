{
 "cells": [
  {
   "cell_type": "code",
   "execution_count": 28,
   "metadata": {},
   "outputs": [],
   "source": [
    "import requests\n",
    "from bs4 import BeautifulSoup\n",
    "import re"
   ]
  },
  {
   "cell_type": "code",
   "execution_count": 10,
   "metadata": {},
   "outputs": [
    {
     "name": "stdout",
     "output_type": "stream",
     "text": [
      "OK\n"
     ]
    }
   ],
   "source": [
    "r = requests.get(\"http://www.cpbl.com.tw/stats/all.html?&year=2020&stat=ppit&sort=ERA&order=desc\")\n",
    "if r.status_code == requests.codes.ok:\n",
    "    print('OK')\n",
    "#print(r.text)"
   ]
  },
  {
   "cell_type": "code",
   "execution_count": 24,
   "metadata": {},
   "outputs": [
    {
     "name": "stdout",
     "output_type": "stream",
     "text": [
      "Hello World\n",
      "Link 1\n",
      "/my_link1\n",
      "Link 2\n",
      "/my_link2\n"
     ]
    }
   ],
   "source": [
    "html_doc = \"\"\"\n",
    "<html><head><title>Hello World</title></head>\n",
    "<body><h2>Test Header</h2>\n",
    "<p>This is a test.</p>\n",
    "<a id=\"link1\" href=\"/my_link1\">Link 1</a>\n",
    "<a id=\"link2\" href=\"/my_link2\">Link 2</a>\n",
    "<p>Hello, <b class=\"boldtext\">Bold Text</b></p>\n",
    "</body></html>\n",
    "\"\"\"\n",
    "\n",
    "soup = BeautifulSoup(html_doc, 'html.parser')\n",
    "#print(soup.prettify())\n",
    "title_tag = soup.title\n",
    "print(title_tag.string)\n",
    "\n",
    "a_tag = soup.find_all('a')\n",
    "for tag in a_tag:\n",
    "    print(tag.string)\n",
    "    print(tag.get('href'))"
   ]
  },
  {
   "cell_type": "code",
   "execution_count": 30,
   "metadata": {},
   "outputs": [
    {
     "name": "stdout",
     "output_type": "stream",
     "text": [
      "Bold Text\n",
      "[<a href=\"/my_link1\" id=\"link1\">Link 1</a>]\n"
     ]
    }
   ],
   "source": [
    "#find all回傳是list\n",
    "#b_tag = soup.find_all(class_=re.compile(\"^bold\"))\n",
    "b_tag = soup.find_all(\"b\", class_=\"boldtext\")\n",
    "print(b_tag[0].string)\n",
    "\n",
    "#用string來找\n",
    "s = soup.find_all('a', string = 'Link 1')\n",
    "print(s)\n"
   ]
  },
  {
   "cell_type": "code",
   "execution_count": null,
   "metadata": {},
   "outputs": [],
   "source": []
  }
 ],
 "metadata": {
  "kernelspec": {
   "display_name": "Python 3",
   "language": "python",
   "name": "python3"
  },
  "language_info": {
   "codemirror_mode": {
    "name": "ipython",
    "version": 3
   },
   "file_extension": ".py",
   "mimetype": "text/x-python",
   "name": "python",
   "nbconvert_exporter": "python",
   "pygments_lexer": "ipython3",
   "version": "3.7.4"
  }
 },
 "nbformat": 4,
 "nbformat_minor": 2
}
